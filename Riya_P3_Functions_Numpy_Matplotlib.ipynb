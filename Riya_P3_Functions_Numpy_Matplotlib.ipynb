{
  "nbformat": 4,
  "nbformat_minor": 0,
  "metadata": {
    "colab": {
      "name": "Riya_P3_Functions_Numpy_Matplotlib.ipynb",
      "provenance": [],
      "collapsed_sections": [],
      "include_colab_link": true
    },
    "kernelspec": {
      "display_name": "Python 3",
      "language": "python",
      "name": "python3"
    },
    "language_info": {
      "codemirror_mode": {
        "name": "ipython",
        "version": 3
      },
      "file_extension": ".py",
      "mimetype": "text/x-python",
      "name": "python",
      "nbconvert_exporter": "python",
      "pygments_lexer": "ipython3",
      "version": "3.8.8"
    }
  },
  "cells": [
    {
      "cell_type": "markdown",
      "metadata": {
        "id": "view-in-github",
        "colab_type": "text"
      },
      "source": [
        "<a href=\"https://colab.research.google.com/github/Centrattic/AI4ALL_2021/blob/main/Riya_P3_Functions_Numpy_Matplotlib.ipynb\" target=\"_parent\"><img src=\"https://colab.research.google.com/assets/colab-badge.svg\" alt=\"Open In Colab\"/></a>"
      ]
    },
    {
      "cell_type": "markdown",
      "metadata": {
        "id": "YYVGF7JaPxYU"
      },
      "source": [
        "# Working with Data\n",
        "\n",
        "In this lesson, we'll start to wrap up on some of the fundamentals of Python and start to think about how to work with data using Python.\n",
        "\n",
        "A large part of programming for artificial intelligence and machine learning is using and manipulating data, and the goal of this lesson is to look at a few tools in Python that help us organize and visualize that data. Keep this in mind while we go through the lesson -- there are quite a few concepts we'll go over, but remember that they serve as fundamental tools in our toolbox that we'll use for the hands-on projects.\n",
        "\n",
        "As always, you got this!\n",
        "\n",
        "![alt text](https://media.giphy.com/media/14bhmZtBNhVnIk/giphy.gif)\n",
        "\n",
        "(Batman's superpowers: being rich, having lots of tools, and having lots of data about everything.)"
      ]
    },
    {
      "cell_type": "markdown",
      "metadata": {
        "id": "foEnacjgVTRm"
      },
      "source": [
        "## Quick Review Exercise\n",
        "\n",
        "Let's take a quick moment to review using libraries, which we saw in the previous lesson.\n",
        "\n",
        "Python has a built-in library called `math` that includes some useful math functions. One of these is `math.sqrt()` which takes 1 number as a parameter and returns its square root.\n",
        "\n",
        "For example:\n",
        "\n",
        "```\n",
        "print(math.sqrt(144))\n",
        "```\n",
        "\n",
        "will print 12.\n",
        "\n",
        "Write a program that asks the user for a number input and then uses the `math.sqrt()` function and a conditional to tell them if they've entered a perfect square.\n",
        "\n",
        "One example of your output:\n",
        "\n",
        "```\n",
        "Enter a number: 23\n",
        "This is not a perfect square.\n",
        "```\n",
        "\n",
        "Another example:\n",
        "\n",
        "```\n",
        "Enter a number: 121\n",
        "This is a perfect square.\n",
        "```\n",
        "\n",
        "Hint: Recall that a \"perfect square\" is a number whose square root is an integer. (For example, the square root of 121 is 11, so it is a perfect square. The square root of 23 is 4.795... so it is not a perfect square.)"
      ]
    },
    {
      "cell_type": "code",
      "metadata": {
        "id": "3fvHjetxXn0b",
        "colab": {
          "base_uri": "https://localhost:8080/"
        },
        "outputId": "9f76bae3-301f-4b3c-86de-63f023b2d9b6"
      },
      "source": [
        "import math\n",
        "### YOUR CODE HERE ### \n",
        "\n",
        "#could also use .is_integer (will return True/False)\n",
        "\n",
        "num = int(input('Enter a number: '))\n",
        "\n",
        "if (math.sqrt(num) - int(math.sqrt(num)) != 0.0):\n",
        "  print('Not a perfect square')\n",
        "else:\n",
        "  print('Is perfect square')\n",
        "### END CODE HERE ### "
      ],
      "execution_count": null,
      "outputs": [
        {
          "output_type": "stream",
          "text": [
            "Enter a number: 17\n",
            "Not a perfect square\n"
          ],
          "name": "stdout"
        }
      ]
    },
    {
      "cell_type": "code",
      "metadata": {
        "colab": {
          "base_uri": "https://localhost:8080/"
        },
        "id": "S4_U4t3LPJSY",
        "outputId": "6d1679ea-9c54-4047-e7a9-4279fbe4c310"
      },
      "source": [
        "# Or with %\n",
        "\n",
        "num = int(input('Enter a number: '))\n",
        "\n",
        "if (num % math.sqrt(num) != 0):\n",
        "  print('Not a perfect square')\n",
        "else:\n",
        "  print('Is perfect square')"
      ],
      "execution_count": null,
      "outputs": [
        {
          "output_type": "stream",
          "text": [
            "Enter a number: 16\n",
            "Is perfect square\n"
          ],
          "name": "stdout"
        }
      ]
    },
    {
      "cell_type": "markdown",
      "metadata": {
        "id": "ij7C-X-mZN0D"
      },
      "source": [
        "Hint 2: (Try the problem out before reading this hint.) There are a few different ways to do this! One particularly clever way is to use the `%` operator. There also happens to be an `is_integer()` function in Python that you can call by writing `num.is_integer()`."
      ]
    },
    {
      "cell_type": "markdown",
      "metadata": {
        "id": "UrbcN1lVZVU8"
      },
      "source": [
        "## Writing Functions\n",
        "\n",
        "So far, we've only been calling functions that have already been written by others. How can we write our own function?\n",
        "\n",
        "Let's take the square root example above. Let's say we don't want to use the `math` library or just want to write and use our own square root function. \n",
        "\n",
        "First, we need to think about a clever mathematical way to get a square root. If you recall from math, putting a number to the $1/2$ exponent is the same as performing a square root! For example:\n",
        "\n",
        "$$ 25^{1/2} = 5 $$\n",
        "\n",
        "Recall how we do exponentiation in Python:"
      ]
    },
    {
      "cell_type": "code",
      "metadata": {
        "id": "8zUqp3MSaKLJ",
        "colab": {
          "base_uri": "https://localhost:8080/"
        },
        "outputId": "7f8f861f-c1b8-4434-ac90-be00da668c83"
      },
      "source": [
        "a = 25 ** (1/2)\n",
        "print(a)"
      ],
      "execution_count": null,
      "outputs": [
        {
          "output_type": "stream",
          "text": [
            "5.0\n"
          ],
          "name": "stdout"
        }
      ]
    },
    {
      "cell_type": "markdown",
      "metadata": {
        "id": "11mR8EGPaUE9"
      },
      "source": [
        "Now that we know how to get the square root of a number, we need to figure out how to write this as a function.\n",
        "\n",
        "Let's think about what we want as our input and output of this function.\n",
        "\n",
        "**What should the input to this function be?**\n",
        "\n",
        "**What should the output of this function be?**\n",
        "\n",
        "Take a moment to think about and answer these two questions."
      ]
    },
    {
      "cell_type": "markdown",
      "metadata": {
        "id": "TMohLuRga4bG"
      },
      "source": [
        "\n",
        "\n",
        "---\n",
        "\n",
        "Answer:\n",
        "\n",
        "We want to input a single number to our function, and the output should be its square root.\n",
        "\n",
        "Because we are inputting only one number, our function should have 1 parameter.\n",
        "\n",
        "We can name our functions whatever we like, so in this case, let's call our function `square_root()`. An example of using `square_root()` in some code might look like:\n",
        "\n",
        "```\n",
        "a = square_root(25)\n",
        "print(a)\n",
        "```\n",
        "\n",
        "which should print `5`."
      ]
    },
    {
      "cell_type": "markdown",
      "metadata": {
        "id": "bu5VXGKXbdTt"
      },
      "source": [
        "Now that we've figured out what we want our function to do, and what we want to name it, it's time to actually write it. The following is what a square root function might look like:"
      ]
    },
    {
      "cell_type": "code",
      "metadata": {
        "id": "yf3CR1-cbkDi"
      },
      "source": [
        "def square_root(x):\n",
        "  return x ** (1/2)"
      ],
      "execution_count": null,
      "outputs": []
    },
    {
      "cell_type": "markdown",
      "metadata": {
        "id": "ImD21scPbxJE"
      },
      "source": [
        "The keyword `def` tells our computer that we are about to _define_ a function. In this particular case, we're defining a function named `square_root` that happens to take one parameter. Just like when we write `for` loops, we can choose the name of this variable, as it's a placeholder that we refer to only within our function.\n",
        "\n",
        "Our function in this particular case returns `x ** (1/2)`, which is the square root of `x`, the input.\n",
        "\n",
        "Let's see this function in action:"
      ]
    },
    {
      "cell_type": "code",
      "metadata": {
        "id": "HbHtp1uZcVOm"
      },
      "source": [
        "def square_root(x):\n",
        "  return x ** (1/2)\n",
        "\n",
        "a = square_root(25)\n",
        "print(a)"
      ],
      "execution_count": null,
      "outputs": []
    },
    {
      "cell_type": "markdown",
      "metadata": {
        "id": "y0PQMBZlcak0"
      },
      "source": [
        "In the example above, what does `x` equal when we call `square_root(25)`?"
      ]
    },
    {
      "cell_type": "markdown",
      "metadata": {
        "id": "4b3EMszjcugP"
      },
      "source": [
        "\n",
        "\n",
        "---\n",
        "\n",
        "Functions are useful because we often have logical blocks in our code that we want to re-use. Imagine having to type `x ** (1/2)` every time you want to take a square root -- it might be easier to say `square_root(x)`. For reading purposes, it also helps make it more clear what your code is doing.\n",
        "\n",
        "Think about the earlier exercise about writing a program that takes in a number and tells the user if that number is a perfect square. What if we wanted to do this functionality multiple times in the same program? We could copy and paste the code every time we want to check if a number is a perfect square, but this would make our program very long and hard to update.\n",
        "\n",
        "Instead, we could do something like:"
      ]
    },
    {
      "cell_type": "code",
      "metadata": {
        "id": "xn8TEX9Cdkj-"
      },
      "source": [
        "def square_root(x):\n",
        "  return x ** (1/2)\n",
        "\n",
        "def is_perfect_square(x):\n",
        "  return square_root(x).is_integer()\n",
        "\n",
        "print(is_perfect_square(23))\n",
        "print(is_perfect_square(121))"
      ],
      "execution_count": null,
      "outputs": []
    },
    {
      "cell_type": "markdown",
      "metadata": {
        "id": "ckYx_sr4d6uD"
      },
      "source": [
        "In this case, we've written a function called `is_perfect_square()` that takes in one parameter and returns whether the square root of that parameter is an integer or not. `is_integer()` happens to be a function, like `print()`, that's already pre-built into Python that we can use.\n",
        "\n",
        "But what ends up being printed? `False` and `True`!\n",
        "\n",
        "These are examples of the Boolean data type (which we briefly mentioned in the first lesson)."
      ]
    },
    {
      "cell_type": "markdown",
      "metadata": {
        "id": "xRHjNOoxfFic"
      },
      "source": [
        "### An Aside: Booleans\n",
        "\n",
        "We've actually been using booleans throughout our code. Let's look at the following conditionals:"
      ]
    },
    {
      "cell_type": "code",
      "metadata": {
        "id": "tNB0gBZ0e8YN"
      },
      "source": [
        "if True:\n",
        "  print(\"This will always print!\")\n",
        "  \n",
        "if False:\n",
        "  print(\"This will never print.\")"
      ],
      "execution_count": null,
      "outputs": []
    },
    {
      "cell_type": "markdown",
      "metadata": {
        "id": "lEBlkGa_fBfX"
      },
      "source": [
        "When we use if statements, we're actually checking for the booleans `True` and `False`. If the condition in the if statement is `True`, then we will perform the code block underneath. If it is `False`, we will not."
      ]
    },
    {
      "cell_type": "code",
      "metadata": {
        "id": "SJOsg7Z9flYR"
      },
      "source": [
        "if 5 > 3:\n",
        "  print(\"This will always print!\")\n",
        "  \n",
        "print(\"Notice what the following line prints:\")\n",
        "print(5 > 3)"
      ],
      "execution_count": null,
      "outputs": []
    },
    {
      "cell_type": "markdown",
      "metadata": {
        "id": "ot8AtJ-jfyPB"
      },
      "source": [
        "Revisiting our perfect square example, let's say we want to tell the user in a complete sentence whether their number is a perfect square or not. We know that `is_perfect_square()` returns a boolean, so let's combine it with a conditional:"
      ]
    },
    {
      "cell_type": "code",
      "metadata": {
        "id": "BLN2dz2qgAu8"
      },
      "source": [
        "num = int(input(\"Enter an integer: \"))\n",
        "\n",
        "if is_perfect_square(num):\n",
        "  print(\"Your number was a perfect square.\")\n",
        "else:\n",
        "  print(\"Your number was not a perfect square.\")"
      ],
      "execution_count": null,
      "outputs": []
    },
    {
      "cell_type": "markdown",
      "metadata": {
        "id": "abnFYWclgT4Y"
      },
      "source": [
        "Notice that we didn't have to re-write all of the `is_perfect_square()` code again! This is because we had already written and run that code once before, so we can keep re-using it in the future. That's why functions are so useful!"
      ]
    },
    {
      "cell_type": "markdown",
      "metadata": {
        "id": "vrEQBQQcgjIl"
      },
      "source": [
        "### Function Exercises"
      ]
    },
    {
      "cell_type": "markdown",
      "metadata": {
        "id": "1HMKIwe3gliQ"
      },
      "source": [
        "1. Read the following code. What do you think it does?"
      ]
    },
    {
      "cell_type": "code",
      "metadata": {
        "id": "cQViBYqcg270",
        "colab": {
          "base_uri": "https://localhost:8080/"
        },
        "outputId": "00b3ad5e-ca51-4384-e533-45bb55689538"
      },
      "source": [
        "def weird_func(a, b):\n",
        "  test = a + b\n",
        "  return test * 2\n",
        "\n",
        "x = 5\n",
        "y = 10\n",
        "\n",
        "if weird_func(x, y) > 30:\n",
        "  print(\"Will this print?\")\n",
        "  \n",
        "if weird_func(10, 10) > 30:\n",
        "  print(\"How about this?\")"
      ],
      "execution_count": null,
      "outputs": [
        {
          "output_type": "stream",
          "text": [
            "How about this?\n"
          ],
          "name": "stdout"
        }
      ]
    },
    {
      "cell_type": "markdown",
      "metadata": {
        "id": "CqXs4GP1hRMA"
      },
      "source": [
        "2. Write a function named `wheres_Waldo` that takes a list as a parameter and returns whether the element \"Waldo\" is in the list.\n",
        "\n",
        "Remember that you can use the keyword `in` to check if an element is in a list, like so:"
      ]
    },
    {
      "cell_type": "code",
      "metadata": {
        "id": "hLzxVYlIh0cf",
        "colab": {
          "base_uri": "https://localhost:8080/"
        },
        "outputId": "0ef041ec-a469-45a1-8d75-110e4ae95fd3"
      },
      "source": [
        "lis = [\"Pikachu\", \"Captain Marvel\"]\n",
        "print(\"Waldo\" in lis)"
      ],
      "execution_count": null,
      "outputs": [
        {
          "output_type": "stream",
          "text": [
            "False\n"
          ],
          "name": "stdout"
        }
      ]
    },
    {
      "cell_type": "code",
      "metadata": {
        "id": "o90j4j_ANdu2"
      },
      "source": [
        "### YOUR CODE HERE ###\n",
        "def wheres_Waldo(list):\n",
        "  if \"Waldo\" in list:\n",
        "    print(\"Waldo's there!\")\n",
        "  else: \n",
        "    print(\"I can't find Waldo!\")\n",
        "\n",
        "### END CODE HERE ### "
      ],
      "execution_count": null,
      "outputs": []
    },
    {
      "cell_type": "code",
      "metadata": {
        "id": "ygQoRMVXeUAU",
        "colab": {
          "base_uri": "https://localhost:8080/"
        },
        "outputId": "c81007b2-16dd-44b5-999b-d845133aabe5"
      },
      "source": [
        "wheres_Waldo(lis)"
      ],
      "execution_count": null,
      "outputs": [
        {
          "output_type": "stream",
          "text": [
            "I can't find Waldo!\n"
          ],
          "name": "stdout"
        }
      ]
    },
    {
      "cell_type": "markdown",
      "metadata": {
        "id": "JqWmoZdFKX9C"
      },
      "source": [
        "## Slicing\n",
        "\n",
        "![alt text](https://media.giphy.com/media/OHNg1tHZcUcKc/giphy.gif)\n",
        "\n",
        "Not that type of slicing."
      ]
    },
    {
      "cell_type": "markdown",
      "metadata": {
        "id": "GPwO8f4CsLs_"
      },
      "source": [
        "Recall how we access individual elements of lists:"
      ]
    },
    {
      "cell_type": "code",
      "metadata": {
        "id": "fbTgOU-7Rq_Z"
      },
      "source": [
        "lis = [\"The Poet X\", \"Electric Arches\", \"America Is Not The Heart\", \"Reliquaria\"]\n",
        "\n",
        "# If we wanted to print the element \"Electric Arches\":\n",
        "print(lis[1])"
      ],
      "execution_count": null,
      "outputs": []
    },
    {
      "cell_type": "markdown",
      "metadata": {
        "id": "XSOfzV7AR_oY"
      },
      "source": [
        "A common thing we'll want to do when working with data is to get multiple elements from a list."
      ]
    },
    {
      "cell_type": "code",
      "metadata": {
        "id": "hCo6JqtYSdgV",
        "colab": {
          "base_uri": "https://localhost:8080/"
        },
        "outputId": "579e69a8-9f6f-4a04-a31b-4b286c415aeb"
      },
      "source": [
        "lis = [\"The Poet X\", \"Electric Arches\", \"America Is Not The Heart\", \"Reliquaria\"]\n",
        "\n",
        "sub_lis = lis[0:2]\n",
        "\n",
        "# What do you think this will print? Takes indexes 0 and 1\n",
        "print(sub_lis)"
      ],
      "execution_count": null,
      "outputs": [
        {
          "output_type": "stream",
          "text": [
            "['The Poet X', 'Electric Arches']\n"
          ],
          "name": "stdout"
        }
      ]
    },
    {
      "cell_type": "markdown",
      "metadata": {
        "id": "w3XWX6UASptR"
      },
      "source": [
        "When we say `lis[0:2]`, we are telling Python to return us a new list that is a _slice_ of the original list. Specifically, we want this new list to start at the element whose index is 0 and go up to (but don't include) the element whose index is 2.\n",
        "\n",
        "In the above example, that means the new list will include \"The Poet X\" (index 0) and \"Electric Arches\" (index 1)."
      ]
    },
    {
      "cell_type": "code",
      "metadata": {
        "id": "3OZ6yoXATBtJ",
        "colab": {
          "base_uri": "https://localhost:8080/"
        },
        "outputId": "92fb3f47-d745-4763-b630-ee865a94370a"
      },
      "source": [
        "lis = [\"The Poet X\", \"Electric Arches\", \"America Is Not The Heart\", \"Reliquaria\"]\n",
        "\n",
        "# Finish the following line so that your slice has \"America Is Not the Heart\" and \"Reliquaria\"\n",
        "sub_lis = lis[2:]\n",
        "\n",
        "print(sub_lis)"
      ],
      "execution_count": null,
      "outputs": [
        {
          "output_type": "stream",
          "text": [
            "['America Is Not The Heart', 'Reliquaria']\n"
          ],
          "name": "stdout"
        }
      ]
    },
    {
      "cell_type": "markdown",
      "metadata": {
        "id": "5pZfovAZToxK"
      },
      "source": [
        "The Python creators also provided a shortcut for doing our slices:"
      ]
    },
    {
      "cell_type": "code",
      "metadata": {
        "id": "UsoWzGF7Tzqn"
      },
      "source": [
        "lis = [\"The Poet X\", \"Electric Arches\", \"America Is Not The Heart\", \"Reliquaria\"]\n",
        "\n",
        "sub_lis = lis[:2]\n",
        "print(sub_lis)"
      ],
      "execution_count": null,
      "outputs": []
    },
    {
      "cell_type": "markdown",
      "metadata": {
        "id": "3WwEBqUpUF7D"
      },
      "source": [
        "When you leave out the number before the `:`, Python assumes you mean the first element (index 0).\n",
        "\n",
        "You can do the same for leaving out the number after the `:`. What do you think this does?"
      ]
    },
    {
      "cell_type": "code",
      "metadata": {
        "id": "MBWj0cQBUPF9"
      },
      "source": [
        "lis = [\"The Poet X\", \"Electric Arches\", \"America Is Not The Heart\", \"Reliquaria\"]\n",
        "\n",
        "sub_lis = lis[2:]\n",
        "print(sub_lis)"
      ],
      "execution_count": null,
      "outputs": []
    },
    {
      "cell_type": "markdown",
      "metadata": {
        "id": "Zj0GGma1UWpl"
      },
      "source": [
        "We can actually use slicing for some other types of data, not just lists. For example, slicing with strings:"
      ]
    },
    {
      "cell_type": "code",
      "metadata": {
        "id": "Btnnr0_zUhVQ",
        "colab": {
          "base_uri": "https://localhost:8080/"
        },
        "outputId": "2aeded6e-9115-4e46-ee0c-8e6081331d6a"
      },
      "source": [
        "string = \"This is a string!\"\n",
        "\n",
        "# Can you guess what this will print?\n",
        "sub_string = string[10:]\n",
        "print(sub_string)"
      ],
      "execution_count": null,
      "outputs": [
        {
          "output_type": "stream",
          "text": [
            "string!\n"
          ],
          "name": "stdout"
        }
      ]
    },
    {
      "cell_type": "markdown",
      "metadata": {
        "id": "OhmokoYmUvAJ"
      },
      "source": [
        "As you may have guessed, each character in a string can be indexed just like how we've been indexing into lists. This is very useful if you're working with string manipulation and natural language data.\n",
        "\n",
        "Example:"
      ]
    },
    {
      "cell_type": "code",
      "metadata": {
        "id": "x2eC6_RmU_XI",
        "colab": {
          "base_uri": "https://localhost:8080/"
        },
        "outputId": "c439fd75-dc26-498b-b247-4a0f9a70ca76"
      },
      "source": [
        "string = \"This is a string!\"\n",
        "\n",
        "# If I wanted the first character of this string, 'T', I would do:\n",
        "first_char = string[-5]\n",
        "print(\"The first character of the string is\", first_char)"
      ],
      "execution_count": null,
      "outputs": [
        {
          "output_type": "stream",
          "text": [
            "The first character of the string is r\n"
          ],
          "name": "stdout"
        }
      ]
    },
    {
      "cell_type": "markdown",
      "metadata": {
        "id": "QH0VhK3nTUae"
      },
      "source": [
        "We'll see slicing quite commonly in machine learning, because we often want to use smaller or specific portions of our data."
      ]
    },
    {
      "cell_type": "markdown",
      "metadata": {
        "id": "WOfW1s_yNdu5"
      },
      "source": [
        "## Hello, Meet Numpy :)\n",
        "\n",
        "Numpy = Numerical Python \n",
        "\n",
        "This is the first library we will be looking at. We will be using this libraray ALL THE TIME. \n"
      ]
    },
    {
      "cell_type": "code",
      "metadata": {
        "id": "41Lwnb5MNdu6"
      },
      "source": [
        "# First lets import numpy \n",
        "import numpy as np"
      ],
      "execution_count": null,
      "outputs": []
    },
    {
      "cell_type": "markdown",
      "metadata": {
        "id": "4dMUJWUSkOPk"
      },
      "source": [
        "#### Add 1 every element of a list  \n",
        "Write code below to add 1 to every element of the list"
      ]
    },
    {
      "cell_type": "code",
      "metadata": {
        "id": "5HjztRIMkoIE",
        "colab": {
          "base_uri": "https://localhost:8080/"
        },
        "outputId": "0fa6c78f-52cb-4d56-c6ae-07f8be7fbc5d"
      },
      "source": [
        "# This is an empty list\n",
        "L1 = np.asarray([1, 2, 3, 4, 5])\n",
        "\n",
        "# or list comprehension, or for loop\n",
        "\n",
        "### YOUR CODE HERE ### \n",
        "L1 += 1\n",
        "L1\n",
        "### END CODE HERE ### "
      ],
      "execution_count": null,
      "outputs": [
        {
          "output_type": "execute_result",
          "data": {
            "text/plain": [
              "array([2, 3, 4, 5, 6])"
            ]
          },
          "metadata": {
            "tags": []
          },
          "execution_count": 44
        }
      ]
    },
    {
      "cell_type": "markdown",
      "metadata": {
        "id": "6sUOBd5ZNdu6"
      },
      "source": [
        "#### Multiply every element of a list  \n",
        "Write code below to multiply every element of the list by 3"
      ]
    },
    {
      "cell_type": "code",
      "metadata": {
        "id": "mgdV2n6vNdu6",
        "colab": {
          "base_uri": "https://localhost:8080/"
        },
        "outputId": "c1195791-138a-4d09-986f-3eacbc5510d6"
      },
      "source": [
        "# This is an empty list\n",
        "L1 = [1, 2, 3, 4, 5]\n",
        "\n",
        "### YOUR CODE HERE ### \n",
        "\n",
        "L1= np.asarray(L1)\n",
        "\n",
        "L1 *=3\n",
        "L1\n",
        "\n",
        "### END CODE HERE ### "
      ],
      "execution_count": null,
      "outputs": [
        {
          "output_type": "execute_result",
          "data": {
            "text/plain": [
              "array([ 3,  6,  9, 12, 15])"
            ]
          },
          "metadata": {
            "tags": []
          },
          "execution_count": 46
        }
      ]
    },
    {
      "cell_type": "markdown",
      "metadata": {
        "id": "WbfOP0dnNdu6"
      },
      "source": [
        "#### Initializing arrays\n",
        "\n",
        "Now we will practice manipulating arrays"
      ]
    },
    {
      "cell_type": "code",
      "metadata": {
        "id": "ib9w_J5-Ndu6",
        "colab": {
          "base_uri": "https://localhost:8080/"
        },
        "outputId": "3fe28a67-38c9-4ba0-cafd-da83ed2de739"
      },
      "source": [
        "### YOUR CODE HERE ### \n",
        "\n",
        "# 1. make a 1x8 array with all 1's \n",
        "\n",
        "one_matrix = np.ones((1,8))\n",
        "one_list = [1] *8\n",
        "one_array = np.asarray(one_list)\n",
        "\n",
        "one_matrix, one_list, one_array"
      ],
      "execution_count": null,
      "outputs": [
        {
          "output_type": "execute_result",
          "data": {
            "text/plain": [
              "(array([[1., 1., 1., 1., 1., 1., 1., 1.]]),\n",
              " [1, 1, 1, 1, 1, 1, 1, 1],\n",
              " array([1, 1, 1, 1, 1, 1, 1, 1]))"
            ]
          },
          "metadata": {
            "tags": []
          },
          "execution_count": 51
        }
      ]
    },
    {
      "cell_type": "code",
      "metadata": {
        "colab": {
          "base_uri": "https://localhost:8080/"
        },
        "id": "uVcHj2SMUTvj",
        "outputId": "074ce2d3-f7fb-4854-b47c-02ff4cc44433"
      },
      "source": [
        "# 2. make a 1x8 array with random numbers between 1 and 100\n",
        "rand_matrix = np.random.rand(1,8)*100\n",
        "rand_matrix"
      ],
      "execution_count": null,
      "outputs": [
        {
          "output_type": "execute_result",
          "data": {
            "text/plain": [
              "array([[89.91270432,  3.88355569, 81.14332196, 84.01491043, 54.93175228,\n",
              "        99.0283251 , 38.60497456,  9.82429954]])"
            ]
          },
          "metadata": {
            "tags": []
          },
          "execution_count": 55
        }
      ]
    },
    {
      "cell_type": "code",
      "metadata": {
        "colab": {
          "base_uri": "https://localhost:8080/"
        },
        "id": "0m-IQgIoUWGv",
        "outputId": "560e2fa2-0952-4791-d4d0-462175914cc7"
      },
      "source": [
        "# 3. add the arrays together into a 1x8 array\n",
        "new_arr = one_matrix + rand_matrix\n",
        "new_arr"
      ],
      "execution_count": null,
      "outputs": [
        {
          "output_type": "execute_result",
          "data": {
            "text/plain": [
              "array([[ 8.50875887, 58.5964515 , 12.02914194, 95.25451664, 84.05743205,\n",
              "        91.94234877, 56.4460878 , 89.89762743]])"
            ]
          },
          "metadata": {
            "tags": []
          },
          "execution_count": 52
        }
      ]
    },
    {
      "cell_type": "code",
      "metadata": {
        "colab": {
          "base_uri": "https://localhost:8080/"
        },
        "id": "5uqJcosnUjoF",
        "outputId": "c2d02ee0-4a81-4fc4-9f90-e90ace228bbb"
      },
      "source": [
        "# 4. stack the arrays together into a 2x8 array (Hint: use np.concatenate)\n",
        "stack_arr = np.concatenate((one_matrix, rand_matrix))\n",
        "stack_arr\n",
        "\n",
        "### END CODE HERE ### "
      ],
      "execution_count": null,
      "outputs": [
        {
          "output_type": "execute_result",
          "data": {
            "text/plain": [
              "array([[ 1.        ,  1.        ,  1.        ,  1.        ,  1.        ,\n",
              "         1.        ,  1.        ,  1.        ],\n",
              "       [ 7.50875887, 57.5964515 , 11.02914194, 94.25451664, 83.05743205,\n",
              "        90.94234877, 55.4460878 , 88.89762743]])"
            ]
          },
          "metadata": {
            "tags": []
          },
          "execution_count": 54
        }
      ]
    },
    {
      "cell_type": "code",
      "metadata": {
        "colab": {
          "base_uri": "https://localhost:8080/"
        },
        "id": "LYiK-u4FVG7q",
        "outputId": "9db6889d-0362-4422-e682-a5a615cd614b"
      },
      "source": [
        "long_arr = np.concatenate((one_matrix, rand_matrix), axis = 1) # concat along row and stuff\n",
        "long_arr"
      ],
      "execution_count": null,
      "outputs": [
        {
          "output_type": "execute_result",
          "data": {
            "text/plain": [
              "array([[ 1.        ,  1.        ,  1.        ,  1.        ,  1.        ,\n",
              "         1.        ,  1.        ,  1.        , 89.91270432,  3.88355569,\n",
              "        81.14332196, 84.01491043, 54.93175228, 99.0283251 , 38.60497456,\n",
              "         9.82429954]])"
            ]
          },
          "metadata": {
            "tags": []
          },
          "execution_count": 60
        }
      ]
    },
    {
      "cell_type": "markdown",
      "metadata": {
        "id": "WJ_v2bDDLSLh"
      },
      "source": [
        "## Visualizing Data\n",
        "\n",
        "To wrap up this lesson, we'll cover one more topic: how to visualize the data that you've been given. Although data may be well organized in Python using the different collections, we often want to be able to present this data to the user in a visual way. Visualization comes in many different forms, from creating tables to colorful charts to just plotting some points on a graph."
      ]
    },
    {
      "cell_type": "code",
      "metadata": {
        "id": "jmcZUrdMHH1k",
        "colab": {
          "base_uri": "https://localhost:8080/"
        },
        "outputId": "0d185ac3-2d87-4542-f9d5-ae08656d63ad"
      },
      "source": [
        "# A list of tuples\n",
        "points_on_a_graph = [(3, 9), (1,1), (5, 25), (2, 4), (4, 16)]\n",
        "\n",
        "# We can print this list, but... is this the most useful?\n",
        "print(points_on_a_graph)"
      ],
      "execution_count": null,
      "outputs": [
        {
          "output_type": "stream",
          "text": [
            "[(3, 9), (1, 1), (5, 25), (2, 4), (4, 16)]\n"
          ],
          "name": "stdout"
        }
      ]
    },
    {
      "cell_type": "markdown",
      "metadata": {
        "id": "bdjsfaq6Hl0b"
      },
      "source": [
        "For visualization, we'll use a versatile Python library called `matplotlib`. (The reason it's called `matplotlib` is because much of the functionality of this library comes from a plotting library from a different language, calle Matlab.)\n",
        "\n",
        "For the first example, let's plot some points on a graph:"
      ]
    },
    {
      "cell_type": "code",
      "metadata": {
        "id": "s6cErtdVIj_T",
        "colab": {
          "base_uri": "https://localhost:8080/",
          "height": 265
        },
        "outputId": "8cb7c783-7896-47fc-cf2b-9743b8f07ba6"
      },
      "source": [
        "%matplotlib inline\n",
        "import matplotlib\n",
        "\n",
        "x = [3, 1, 5, 2, 4]\n",
        "y = [9, 1, 25, 4, 16]\n",
        "\n",
        "matplotlib.pyplot.scatter(x, y)\n",
        "matplotlib.pyplot.show()"
      ],
      "execution_count": null,
      "outputs": [
        {
          "output_type": "display_data",
          "data": {
            "image/png": "[encoded data removed]",
            "text/plain": [
              "<Figure size 432x288 with 1 Axes>"
            ]
          },
          "metadata": {
            "tags": [],
            "needs_background": "light"
          }
        }
      ]
    },
    {
      "cell_type": "markdown",
      "metadata": {
        "id": "LwdIY7FxJLS_"
      },
      "source": [
        "The above code imports the `matplotlib` library, takes in two lists (which correspond to `x` and `y` values of 5 different points), and then plots those five points on a graph.\n",
        "\n",
        "For Jupyter Notebooks, in order to show a `matplotlib` graph within the Notebook itself, we need to add the line `%matplotlib inline` before doing the import.\n",
        "\n",
        "When we say `matplotlib.pyplot.scatter(x, y)`, we are saying that we want to put the values of `x` and `y` onto a specific type of graph called a scatterplot.\n",
        "\n",
        "Finally, to actually show the scatterplot, we say `matplotlib.pyplot.show()`.\n",
        "\n",
        "\n",
        "\n",
        "---\n",
        "\n",
        "\n",
        "It's a lot of typing to say `matplotlib.pyplot` every time we want to use functions from this library, so there's a shorthand that we can actually use, when importing the specific `pyplot` module:"
      ]
    },
    {
      "cell_type": "code",
      "metadata": {
        "id": "Xg5Paod-J9b5",
        "colab": {
          "base_uri": "https://localhost:8080/",
          "height": 265
        },
        "outputId": "8c7aaedf-4caf-428b-f2b0-4dfab996b334"
      },
      "source": [
        "%matplotlib inline\n",
        "import matplotlib.pyplot as plt\n",
        "\n",
        "x = [3, 1, 5, 2, 4]\n",
        "y = [9, 1, 25, 4, 16]\n",
        "\n",
        "plt.scatter(x, y)\n",
        "plt.show()"
      ],
      "execution_count": null,
      "outputs": [
        {
          "output_type": "display_data",
          "data": {
            "image/png": "[encoded data removed]",
            "text/plain": [
              "<Figure size 432x288 with 1 Axes>"
            ]
          },
          "metadata": {
            "tags": [],
            "needs_background": "light"
          }
        }
      ]
    },
    {
      "cell_type": "markdown",
      "metadata": {
        "id": "Lfpu2F7PKGzz"
      },
      "source": [
        "All this says is that instead of importing all of `matplotlib`, which consists of many different modules, we'll only import the `matplotlib.pyplot` module, and we'll refer to it as `plt` from now on in our code.\n",
        "\n",
        "`pyplot` has a lot of different useful features that we can use to manipulate our visualization."
      ]
    },
    {
      "cell_type": "code",
      "metadata": {
        "id": "iC4vdtjkKmpi",
        "colab": {
          "base_uri": "https://localhost:8080/",
          "height": 279
        },
        "outputId": "25a08cb5-18c7-4b8f-d7b2-76a975a3491c"
      },
      "source": [
        "%matplotlib inline\n",
        "import matplotlib.pyplot as plt\n",
        "\n",
        "x = [3, 1, 5, 2, 4]\n",
        "y = [9, 1, 25, 4, 16]\n",
        "\n",
        "plt.scatter(x, y)\n",
        "plt.xlabel(\"Some numbers\")\n",
        "plt.ylabel(\"Some other numbers\")\n",
        "\n",
        "# Notice that when we show the graph now, we'll have words along the x and y dimensions\n",
        "plt.show()"
      ],
      "execution_count": null,
      "outputs": [
        {
          "output_type": "display_data",
          "data": {
            "image/png": "[encoded data removed]",
            "text/plain": [
              "<Figure size 432x288 with 1 Axes>"
            ]
          },
          "metadata": {
            "tags": [],
            "needs_background": "light"
          }
        }
      ]
    },
    {
      "cell_type": "markdown",
      "metadata": {
        "id": "HwO_AMXzLCfR"
      },
      "source": [
        "Instead of using a scatter plot, we can use a normal plot (default: line plot) to connect the actual points:"
      ]
    },
    {
      "cell_type": "code",
      "metadata": {
        "id": "DV_qg-zxLGr3",
        "colab": {
          "base_uri": "https://localhost:8080/",
          "height": 279
        },
        "outputId": "06d5a4f9-60bc-4748-8094-7f1d11c17b4d"
      },
      "source": [
        "%matplotlib inline\n",
        "import matplotlib.pyplot as plt\n",
        "\n",
        "x = [3, 1, 5, 2, 4]\n",
        "y = [9, 1, 25, 4, 16]\n",
        "\n",
        "plt.plot(x, y)\n",
        "plt.xlabel(\"Some numbers\")\n",
        "plt.ylabel(\"Some other numbers\")\n",
        "plt.show()"
      ],
      "execution_count": null,
      "outputs": [
        {
          "output_type": "display_data",
          "data": {
            "image/png": "[encoded data removed]",
            "text/plain": [
              "<Figure size 432x288 with 1 Axes>"
            ]
          },
          "metadata": {
            "tags": [],
            "needs_background": "light"
          }
        }
      ]
    },
    {
      "cell_type": "markdown",
      "metadata": {
        "id": "KbcPADkQLO6a"
      },
      "source": [
        "Did this connect the points like you expected? The first point is $(3, 9)$ and the next point is $(1,1)$, so it will draw a line between the two. If we re-order our points, we might get something better:"
      ]
    },
    {
      "cell_type": "code",
      "metadata": {
        "id": "xsKCx6VbL6Yv",
        "colab": {
          "base_uri": "https://localhost:8080/",
          "height": 279
        },
        "outputId": "3e13f750-27d3-4eb0-ad5c-4c183d7d9abc"
      },
      "source": [
        "%matplotlib inline\n",
        "import matplotlib.pyplot as plt\n",
        "\n",
        "x = [1, 2, 3, 4, 5]\n",
        "y = [1, 4, 9, 16, 25]\n",
        "\n",
        "plt.plot(x, y)\n",
        "plt.xlabel(\"Some numbers\")\n",
        "plt.ylabel(\"Some other numbers\")\n",
        "plt.show()"
      ],
      "execution_count": null,
      "outputs": [
        {
          "output_type": "display_data",
          "data": {
            "image/png": "[encoded data removed]",
            "text/plain": [
              "<Figure size 432x288 with 1 Axes>"
            ]
          },
          "metadata": {
            "tags": [],
            "needs_background": "light"
          }
        }
      ]
    },
    {
      "cell_type": "markdown",
      "metadata": {
        "id": "JhuC7HSUMR7g"
      },
      "source": [
        "There are many, many other functions, and we won't go over all of them. This is why it's common for programmers to refer to [documentation](https://matplotlib.org/api/index.html) when they read code, because there are so many different functions and libraries that exist in the world, and we need the documentation to help us understand what's going on.\n",
        "\n",
        "As you program more, you may also start to gain some intuition about how code you haven't seen before works:"
      ]
    },
    {
      "cell_type": "code",
      "metadata": {
        "id": "_x3AU9fONCDK",
        "colab": {
          "base_uri": "https://localhost:8080/",
          "height": 283
        },
        "outputId": "c35e24dd-2959-454d-908a-bfbc21234ce1"
      },
      "source": [
        "%matplotlib inline\n",
        "import matplotlib.pyplot as plt\n",
        "\n",
        "x = [1, 2, 3, 4, 5]\n",
        "y = [1, 4, 9, 16, 25]\n",
        "\n",
        "plt.plot(x, y)\n",
        "plt.xlabel(\"Some numbers\")\n",
        "plt.ylabel(\"Some other numbers\")\n",
        "\n",
        "# What might these following lines do? They define the axis in a particular range, so your line ends there\n",
        "plt.gray()\n",
        "plt.axis([0, 10, 0, 100])\n",
        "\n",
        "plt.show()"
      ],
      "execution_count": null,
      "outputs": [
        {
          "output_type": "display_data",
          "data": {
            "image/png": "[encoded data removed]",
            "text/plain": [
              "<Figure size 432x288 with 1 Axes>"
            ]
          },
          "metadata": {
            "tags": [],
            "needs_background": "light"
          }
        }
      ]
    },
    {
      "cell_type": "code",
      "metadata": {
        "id": "5UbzsEL5dCvs",
        "colab": {
          "base_uri": "https://localhost:8080/",
          "height": 265
        },
        "outputId": "f0348eb6-6dab-4d50-8f44-8e22172ff6b4"
      },
      "source": [
        "## Combining matplotlib and numpy\n",
        "\n",
        "### YOUR CODE HERE ### \n",
        "# 1. initialize x array with 100 numbers between 0 and 2pi\n",
        "x_arr = np.arange(0, 2*math.pi, 100) # how to get this with arange to work? arange equally spaced figure it out later\n",
        "\n",
        "x_arr2 = np.random.rand(100) *2*math.pi\n",
        "\n",
        "# 2. compute y as sin(x)\n",
        "y = np.sin(x_arr2)\n",
        "\n",
        "# 3. plot x vs y on a scatter plot (don't forget your labels)\n",
        "plt.scatter(x_arr2,y)\n",
        "plt.xlabel = '100 random numbers from 0 to 2pi'\n",
        "plt.y_label = 'sin(x)'\n",
        "\n",
        "plt.show()\n",
        "\n",
        "# when numbers in x_arr 2 large enough we get sin curve, when you have enough data, do things enough times, you get good result: power of sampling, what make ML work\n",
        "\n",
        "### END CODE HERE  ###"
      ],
      "execution_count": null,
      "outputs": [
        {
          "output_type": "display_data",
          "data": {
            "image/png": "[encoded data removed]",
            "text/plain": [
              "<Figure size 432x288 with 1 Axes>"
            ]
          },
          "metadata": {
            "tags": [],
            "needs_background": "light"
          }
        }
      ]
    },
    {
      "cell_type": "code",
      "metadata": {
        "id": "lzWRJabgWveM"
      },
      "source": [
        ""
      ],
      "execution_count": null,
      "outputs": []
    }
  ]
}